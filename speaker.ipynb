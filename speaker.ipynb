{
 "cells": [
  {
   "cell_type": "code",
   "execution_count": 1,
   "id": "4b82b32d-b55d-43e4-bc75-914cecfc6dc0",
   "metadata": {},
   "outputs": [
    {
     "name": "stdout",
     "output_type": "stream",
     "text": [
      "Collecting speechbrain\n",
      "  Downloading speechbrain-0.5.11-py3-none-any.whl (408 kB)\n",
      "\u001b[2K     \u001b[90m━━━━━━━━━━━━━━━━━━━━━━━━━━━━━━━━━━━━━━━\u001b[0m \u001b[32m408.1/408.1 KB\u001b[0m \u001b[31m5.5 MB/s\u001b[0m eta \u001b[36m0:00:00\u001b[0ma \u001b[36m0:00:01\u001b[0m\n",
      "\u001b[?25hRequirement already satisfied: numpy in /Users/yushiu/miniforge3/envs/podcast_highlight/lib/python3.8/site-packages (from speechbrain) (1.21.5)\n",
      "Collecting torchaudio\n",
      "  Downloading torchaudio-0.11.0-cp38-cp38-macosx_11_0_arm64.whl (2.3 MB)\n",
      "\u001b[2K     \u001b[90m━━━━━━━━━━━━━━━━━━━━━━━━━━━━━━━━━━━━━━━━\u001b[0m \u001b[32m2.3/2.3 MB\u001b[0m \u001b[31m11.3 MB/s\u001b[0m eta \u001b[36m0:00:00\u001b[0m00:01\u001b[0m00:01\u001b[0m\n",
      "\u001b[?25hCollecting torch<=1.11,>=1.7\n",
      "  Downloading torch-1.11.0-cp38-none-macosx_11_0_arm64.whl (43.1 MB)\n",
      "\u001b[2K     \u001b[90m━━━━━━━━━━━━━━━━━━━━━━━━━━━━━━━━━━━━━━━━\u001b[0m \u001b[32m43.1/43.1 MB\u001b[0m \u001b[31m13.1 MB/s\u001b[0m eta \u001b[36m0:00:00\u001b[0m00:01\u001b[0m00:01\u001b[0m\n",
      "\u001b[?25hRequirement already satisfied: scipy in /Users/yushiu/miniforge3/envs/podcast_highlight/lib/python3.8/site-packages (from speechbrain) (1.8.0)\n",
      "Collecting tqdm\n",
      "  Downloading tqdm-4.63.0-py2.py3-none-any.whl (76 kB)\n",
      "\u001b[2K     \u001b[90m━━━━━━━━━━━━━━━━━━━━━━━━━━━━━━━━━━━━━━━━\u001b[0m \u001b[32m76.6/76.6 KB\u001b[0m \u001b[31m2.7 MB/s\u001b[0m eta \u001b[36m0:00:00\u001b[0m\n",
      "\u001b[?25hCollecting sentencepiece\n",
      "  Using cached sentencepiece-0.1.96-cp38-cp38-macosx_11_0_arm64.whl\n",
      "Requirement already satisfied: joblib in /Users/yushiu/miniforge3/envs/podcast_highlight/lib/python3.8/site-packages (from speechbrain) (1.1.0)\n",
      "Collecting huggingface-hub\n",
      "  Downloading huggingface_hub-0.4.0-py3-none-any.whl (67 kB)\n",
      "\u001b[2K     \u001b[90m━━━━━━━━━━━━━━━━━━━━━━━━━━━━━━━━━━━━━━━━\u001b[0m \u001b[32m67.0/67.0 KB\u001b[0m \u001b[31m2.3 MB/s\u001b[0m eta \u001b[36m0:00:00\u001b[0m\n",
      "\u001b[?25hRequirement already satisfied: packaging in /Users/yushiu/miniforge3/envs/podcast_highlight/lib/python3.8/site-packages (from speechbrain) (21.3)\n",
      "Collecting hyperpyyaml\n",
      "  Downloading HyperPyYAML-1.0.0-py3-none-any.whl (15 kB)\n",
      "Requirement already satisfied: typing-extensions in /Users/yushiu/miniforge3/envs/podcast_highlight/lib/python3.8/site-packages (from torch<=1.11,>=1.7->speechbrain) (4.1.1)\n",
      "Collecting pyyaml\n",
      "  Downloading PyYAML-6.0.tar.gz (124 kB)\n",
      "\u001b[2K     \u001b[90m━━━━━━━━━━━━━━━━━━━━━━━━━━━━━━━━━━━━━━━\u001b[0m \u001b[32m125.0/125.0 KB\u001b[0m \u001b[31m4.0 MB/s\u001b[0m eta \u001b[36m0:00:00\u001b[0m\n",
      "\u001b[?25h  Installing build dependencies ... \u001b[?25ldone\n",
      "\u001b[?25h  Getting requirements to build wheel ... \u001b[?25ldone\n",
      "\u001b[?25h  Preparing metadata (pyproject.toml) ... \u001b[?25ldone\n",
      "\u001b[?25hCollecting filelock\n",
      "  Downloading filelock-3.6.0-py3-none-any.whl (10.0 kB)\n",
      "Requirement already satisfied: requests in /Users/yushiu/miniforge3/envs/podcast_highlight/lib/python3.8/site-packages (from huggingface-hub->speechbrain) (2.27.1)\n",
      "Requirement already satisfied: pyparsing!=3.0.5,>=2.0.2 in /Users/yushiu/miniforge3/envs/podcast_highlight/lib/python3.8/site-packages (from packaging->speechbrain) (3.0.7)\n",
      "Collecting ruamel.yaml>=0.15\n",
      "  Downloading ruamel.yaml-0.17.21-py3-none-any.whl (109 kB)\n",
      "\u001b[2K     \u001b[90m━━━━━━━━━━━━━━━━━━━━━━━━━━━━━━━━━━━━━━━\u001b[0m \u001b[32m109.5/109.5 KB\u001b[0m \u001b[31m3.8 MB/s\u001b[0m eta \u001b[36m0:00:00\u001b[0m\n",
      "\u001b[?25hCollecting ruamel.yaml.clib>=0.2.6\n",
      "  Using cached ruamel.yaml.clib-0.2.6-cp38-cp38-macosx_11_0_arm64.whl\n",
      "Requirement already satisfied: certifi>=2017.4.17 in /Users/yushiu/miniforge3/envs/podcast_highlight/lib/python3.8/site-packages (from requests->huggingface-hub->speechbrain) (2021.10.8)\n",
      "Requirement already satisfied: charset-normalizer~=2.0.0 in /Users/yushiu/miniforge3/envs/podcast_highlight/lib/python3.8/site-packages (from requests->huggingface-hub->speechbrain) (2.0.12)\n",
      "Requirement already satisfied: urllib3<1.27,>=1.21.1 in /Users/yushiu/miniforge3/envs/podcast_highlight/lib/python3.8/site-packages (from requests->huggingface-hub->speechbrain) (1.26.9)\n",
      "Requirement already satisfied: idna<4,>=2.5 in /Users/yushiu/miniforge3/envs/podcast_highlight/lib/python3.8/site-packages (from requests->huggingface-hub->speechbrain) (3.3)\n",
      "Building wheels for collected packages: pyyaml\n",
      "  Building wheel for pyyaml (pyproject.toml) ... \u001b[?25ldone\n",
      "\u001b[?25h  Created wheel for pyyaml: filename=PyYAML-6.0-cp38-cp38-macosx_11_0_arm64.whl size=45337 sha256=d83a3524df5e58c3dd874701894ad063c89891345e0896708f68382bd634403c\n",
      "  Stored in directory: /Users/yushiu/Library/Caches/pip/wheels/52/84/66/50912fd7bf1639a31758e40bd4312602e104a8eca1e0da9645\n",
      "Successfully built pyyaml\n",
      "Installing collected packages: sentencepiece, tqdm, torch, ruamel.yaml.clib, pyyaml, filelock, torchaudio, ruamel.yaml, huggingface-hub, hyperpyyaml, speechbrain\n",
      "Successfully installed filelock-3.6.0 huggingface-hub-0.4.0 hyperpyyaml-1.0.0 pyyaml-6.0 ruamel.yaml-0.17.21 ruamel.yaml.clib-0.2.6 sentencepiece-0.1.96 speechbrain-0.5.11 torch-1.11.0 torchaudio-0.11.0 tqdm-4.63.0\n"
     ]
    }
   ],
   "source": [
    "!pip install speechbrain"
   ]
  },
  {
   "cell_type": "code",
   "execution_count": 16,
   "id": "ad4b0f9a-e17f-4491-aaa2-69a509d0438c",
   "metadata": {},
   "outputs": [],
   "source": [
    "import os\n",
    "import glob\n",
    "import json\n",
    "import pandas as pd\n",
    "import numpy as np\n",
    "from tqdm import tqdm\n",
    "from math import floor\n",
    "import matplotlib.pyplot as plt"
   ]
  },
  {
   "cell_type": "code",
   "execution_count": 17,
   "id": "6eaae865-2e91-4593-8ddb-dcfc82d749fd",
   "metadata": {},
   "outputs": [],
   "source": [
    "def cos_sim(a, b):\n",
    "    return np.dot(a, b)/(np.linalg.norm(a)*np.linalg.norm(b))"
   ]
  },
  {
   "cell_type": "code",
   "execution_count": 3,
   "id": "7e5942ef-599a-4dfe-9e32-4e0cde0c0a7a",
   "metadata": {},
   "outputs": [],
   "source": [
    "data_path = './sound'\n",
    "json_list = glob.glob(os.path.join(data_path, '*.json'))"
   ]
  },
  {
   "cell_type": "code",
   "execution_count": 11,
   "id": "e6dfce20-962a-48f2-b542-ab36c4fc1d46",
   "metadata": {},
   "outputs": [],
   "source": [
    "speaker_simi_thre = 0.4"
   ]
  },
  {
   "cell_type": "code",
   "execution_count": 4,
   "id": "ec19cd79-a2b0-433c-9a60-48e4fcc54e7c",
   "metadata": {},
   "outputs": [
    {
     "data": {
      "text/plain": [
       "['./sound/this-american-life_getting-out.json',\n",
       " './sound/npr-politics_school-mask-ban.json',\n",
       " './sound/conan-obrien_cecily-strong.json',\n",
       " './sound/99-invisible_matters-of-time.json',\n",
       " './sound/npr-politics_cutting-unemployment.json',\n",
       " './sound/radiolab_dark-side-of-the-earth.json',\n",
       " './sound/masters-of-scale_build-the-right-flywheel.json',\n",
       " './sound/my-first-million_the-secret-to-being-great.json',\n",
       " './sound/the-internet-says-its-true_hollywood.json',\n",
       " './sound/npr-politics_august-27th.json',\n",
       " './sound/a16z_developers-as-creatives.json',\n",
       " './sound/the-internet-says-its-true_hidden-village.json',\n",
       " './sound/this-american-life_essential.json',\n",
       " './sound/conan-obrien_joel-mchale.json',\n",
       " './sound/my-first-million_how-to-build-a-community.json',\n",
       " './sound/99-invisible_stuff-the-british-stole.json',\n",
       " './sound/masters-of-scale_make-it-epic.json',\n",
       " './sound/radiolab_dinopocalypse-redux.json',\n",
       " './sound/a16z_malaria-vaccine.json',\n",
       " './sound/a16z_crypto.json',\n",
       " './sound/masters-of-scale_master-your-emotions.json']"
      ]
     },
     "execution_count": 4,
     "metadata": {},
     "output_type": "execute_result"
    }
   ],
   "source": [
    "json_list"
   ]
  },
  {
   "cell_type": "code",
   "execution_count": 5,
   "id": "fcbd17c9-ba74-4650-ad4b-c03ebd796bbe",
   "metadata": {},
   "outputs": [],
   "source": [
    "pd.set_option('display.max_rows', None)"
   ]
  },
  {
   "cell_type": "code",
   "execution_count": 6,
   "id": "0823b9bd-52ac-4fd3-ab6e-3ac279b2e40c",
   "metadata": {},
   "outputs": [
    {
     "data": {
      "application/vnd.jupyter.widget-view+json": {
       "model_id": "202157e84bab4d3f98237f6e297357b1",
       "version_major": 2,
       "version_minor": 0
      },
      "text/plain": [
       "Downloading:   0%|          | 0.00/1.92k [00:00<?, ?B/s]"
      ]
     },
     "metadata": {},
     "output_type": "display_data"
    },
    {
     "data": {
      "application/vnd.jupyter.widget-view+json": {
       "model_id": "303a99255b6643adbdd6048588c0a75b",
       "version_major": 2,
       "version_minor": 0
      },
      "text/plain": [
       "Downloading:   0%|          | 0.00/83.3M [00:00<?, ?B/s]"
      ]
     },
     "metadata": {},
     "output_type": "display_data"
    },
    {
     "data": {
      "application/vnd.jupyter.widget-view+json": {
       "model_id": "9ee67edc1a9c436499d60ae76ac59d9a",
       "version_major": 2,
       "version_minor": 0
      },
      "text/plain": [
       "Downloading:   0%|          | 0.00/1.92k [00:00<?, ?B/s]"
      ]
     },
     "metadata": {},
     "output_type": "display_data"
    },
    {
     "data": {
      "application/vnd.jupyter.widget-view+json": {
       "model_id": "9c5c8200454d46008bf7c3e78f8de6c5",
       "version_major": 2,
       "version_minor": 0
      },
      "text/plain": [
       "Downloading:   0%|          | 0.00/5.53M [00:00<?, ?B/s]"
      ]
     },
     "metadata": {},
     "output_type": "display_data"
    },
    {
     "data": {
      "application/vnd.jupyter.widget-view+json": {
       "model_id": "dee7de1c34b14c628b0e7bd27f84976f",
       "version_major": 2,
       "version_minor": 0
      },
      "text/plain": [
       "Downloading:   0%|          | 0.00/129k [00:00<?, ?B/s]"
      ]
     },
     "metadata": {},
     "output_type": "display_data"
    }
   ],
   "source": [
    "import torchaudio\n",
    "from speechbrain.pretrained import EncoderClassifier\n",
    "\n",
    "classifier = EncoderClassifier.from_hparams(source=\"speechbrain/spkrec-ecapa-voxceleb\")"
   ]
  },
  {
   "cell_type": "code",
   "execution_count": 25,
   "id": "a71eefe3-800f-47ad-b6c1-03214914e9c4",
   "metadata": {},
   "outputs": [
    {
     "name": "stdout",
     "output_type": "stream",
     "text": [
      "this-american-life_getting-out.wav\n"
     ]
    },
    {
     "name": "stderr",
     "output_type": "stream",
     "text": [
      "100%|████████████████████████████████████████████████████████████████████████████████████████████████████████████████████████████████| 10300/10300 [00:40<00:00, 253.06it/s]\n"
     ]
    },
    {
     "name": "stdout",
     "output_type": "stream",
     "text": [
      "npr-politics_school-mask-ban.wav\n"
     ]
    },
    {
     "name": "stderr",
     "output_type": "stream",
     "text": [
      "100%|██████████████████████████████████████████████████████████████████████████████████████████████████████████████████████████████████| 2501/2501 [00:09<00:00, 253.97it/s]\n"
     ]
    },
    {
     "name": "stdout",
     "output_type": "stream",
     "text": [
      "conan-obrien_cecily-strong.wav\n"
     ]
    },
    {
     "name": "stderr",
     "output_type": "stream",
     "text": [
      "100%|████████████████████████████████████████████████████████████████████████████████████████████████████████████████████████████████| 11516/11516 [00:40<00:00, 285.58it/s]\n"
     ]
    },
    {
     "name": "stdout",
     "output_type": "stream",
     "text": [
      "99-invisible_matters-of-time.wav\n"
     ]
    },
    {
     "name": "stderr",
     "output_type": "stream",
     "text": [
      "100%|████████████████████████████████████████████████████████████████████████████████████████████████████████████████████████████████| 10461/10461 [00:36<00:00, 283.65it/s]\n"
     ]
    },
    {
     "name": "stdout",
     "output_type": "stream",
     "text": [
      "npr-politics_cutting-unemployment.wav\n"
     ]
    },
    {
     "name": "stderr",
     "output_type": "stream",
     "text": [
      "100%|██████████████████████████████████████████████████████████████████████████████████████████████████████████████████████████████████| 2605/2605 [00:09<00:00, 275.32it/s]\n"
     ]
    },
    {
     "name": "stdout",
     "output_type": "stream",
     "text": [
      "radiolab_dark-side-of-the-earth.wav\n"
     ]
    },
    {
     "name": "stderr",
     "output_type": "stream",
     "text": [
      "100%|██████████████████████████████████████████████████████████████████████████████████████████████████████████████████████████████████| 4613/4613 [00:18<00:00, 251.77it/s]\n"
     ]
    },
    {
     "name": "stdout",
     "output_type": "stream",
     "text": [
      "masters-of-scale_build-the-right-flywheel.wav\n"
     ]
    },
    {
     "name": "stderr",
     "output_type": "stream",
     "text": [
      "100%|██████████████████████████████████████████████████████████████████████████████████████████████████████████████████████████████████| 8567/8567 [00:31<00:00, 274.03it/s]\n"
     ]
    },
    {
     "name": "stdout",
     "output_type": "stream",
     "text": [
      "my-first-million_the-secret-to-being-great.wav\n"
     ]
    },
    {
     "name": "stderr",
     "output_type": "stream",
     "text": [
      "100%|██████████████████████████████████████████████████████████████████████████████████████████████████████████████████████████████████| 9581/9581 [00:30<00:00, 316.38it/s]\n"
     ]
    },
    {
     "name": "stdout",
     "output_type": "stream",
     "text": [
      "the-internet-says-its-true_hollywood.wav\n"
     ]
    },
    {
     "name": "stderr",
     "output_type": "stream",
     "text": [
      "100%|██████████████████████████████████████████████████████████████████████████████████████████████████████████████████████████████████| 6794/6794 [00:23<00:00, 288.12it/s]\n"
     ]
    },
    {
     "name": "stdout",
     "output_type": "stream",
     "text": [
      "npr-politics_august-27th.wav\n"
     ]
    },
    {
     "name": "stderr",
     "output_type": "stream",
     "text": [
      "100%|██████████████████████████████████████████████████████████████████████████████████████████████████████████████████████████████████| 5232/5232 [00:18<00:00, 278.29it/s]\n"
     ]
    },
    {
     "name": "stdout",
     "output_type": "stream",
     "text": [
      "a16z_developers-as-creatives.wav\n"
     ]
    },
    {
     "name": "stderr",
     "output_type": "stream",
     "text": [
      "100%|██████████████████████████████████████████████████████████████████████████████████████████████████████████████████████████████████| 7626/7626 [00:25<00:00, 301.26it/s]\n"
     ]
    },
    {
     "name": "stdout",
     "output_type": "stream",
     "text": [
      "the-internet-says-its-true_hidden-village.wav\n"
     ]
    },
    {
     "name": "stderr",
     "output_type": "stream",
     "text": [
      "100%|██████████████████████████████████████████████████████████████████████████████████████████████████████████████████████████████████| 4230/4230 [00:16<00:00, 260.74it/s]\n"
     ]
    },
    {
     "name": "stdout",
     "output_type": "stream",
     "text": [
      "this-american-life_essential.wav\n"
     ]
    },
    {
     "name": "stderr",
     "output_type": "stream",
     "text": [
      "100%|████████████████████████████████████████████████████████████████████████████████████████████████████████████████████████████████| 11779/11779 [00:47<00:00, 250.26it/s]\n"
     ]
    },
    {
     "name": "stdout",
     "output_type": "stream",
     "text": [
      "conan-obrien_joel-mchale.wav\n"
     ]
    },
    {
     "name": "stderr",
     "output_type": "stream",
     "text": [
      "100%|████████████████████████████████████████████████████████████████████████████████████████████████████████████████████████████████| 14703/14703 [00:50<00:00, 293.68it/s]\n"
     ]
    },
    {
     "name": "stdout",
     "output_type": "stream",
     "text": [
      "my-first-million_how-to-build-a-community.wav\n"
     ]
    },
    {
     "name": "stderr",
     "output_type": "stream",
     "text": [
      "100%|████████████████████████████████████████████████████████████████████████████████████████████████████████████████████████████████| 15974/15974 [00:50<00:00, 317.48it/s]\n"
     ]
    },
    {
     "name": "stdout",
     "output_type": "stream",
     "text": [
      "99-invisible_stuff-the-british-stole.wav\n"
     ]
    },
    {
     "name": "stderr",
     "output_type": "stream",
     "text": [
      "100%|██████████████████████████████████████████████████████████████████████████████████████████████████████████████████████████████████| 8383/8383 [00:31<00:00, 269.40it/s]\n"
     ]
    },
    {
     "name": "stdout",
     "output_type": "stream",
     "text": [
      "masters-of-scale_make-it-epic.wav\n"
     ]
    },
    {
     "name": "stderr",
     "output_type": "stream",
     "text": [
      "100%|██████████████████████████████████████████████████████████████████████████████████████████████████████████████████████████████████| 8732/8732 [00:34<00:00, 255.16it/s]\n"
     ]
    },
    {
     "name": "stdout",
     "output_type": "stream",
     "text": [
      "radiolab_dinopocalypse-redux.wav\n"
     ]
    },
    {
     "name": "stderr",
     "output_type": "stream",
     "text": [
      "100%|██████████████████████████████████████████████████████████████████████████████████████████████████████████████████████████████████| 7888/7888 [00:30<00:00, 259.83it/s]\n"
     ]
    },
    {
     "name": "stdout",
     "output_type": "stream",
     "text": [
      "a16z_malaria-vaccine.wav\n"
     ]
    },
    {
     "name": "stderr",
     "output_type": "stream",
     "text": [
      "100%|██████████████████████████████████████████████████████████████████████████████████████████████████████████████████████████████████| 7158/7158 [00:25<00:00, 282.75it/s]\n"
     ]
    },
    {
     "name": "stdout",
     "output_type": "stream",
     "text": [
      "a16z_crypto.wav\n"
     ]
    },
    {
     "name": "stderr",
     "output_type": "stream",
     "text": [
      "100%|██████████████████████████████████████████████████████████████████████████████████████████████████████████████████████████████████| 7801/7801 [00:26<00:00, 293.02it/s]\n"
     ]
    },
    {
     "name": "stdout",
     "output_type": "stream",
     "text": [
      "masters-of-scale_master-your-emotions.wav\n"
     ]
    },
    {
     "name": "stderr",
     "output_type": "stream",
     "text": [
      "100%|██████████████████████████████████████████████████████████████████████████████████████████████████████████████████████████████████| 6600/6600 [00:25<00:00, 257.07it/s]\n"
     ]
    }
   ],
   "source": [
    "# for j in [json_list[-2]]:\n",
    "# for j in json_list[0:2]:\n",
    "for j in json_list:\n",
    "    j_curr = os.path.basename(j)\n",
    "    sound_curr0 = j_curr[:-4]+'wav'\n",
    "    print(sound_curr0)\n",
    "    sound_curr = os.path.join(data_path, sound_curr0)\n",
    "\n",
    "    if not os.path.exists(sound_curr):\n",
    "        print('{0} does not exist.'.format(sound_curr0))\n",
    "        break\n",
    "\n",
    "    samples, fs = torchaudio.load(sound_curr)\n",
    "    # embeddings = classifier.encode_batch(signal)\n",
    "    \n",
    "    # Get the sentence\n",
    "    sentence_list = []\n",
    "    text = json.load(open(os.path.join(data_path, j_curr)))\n",
    "    data = text['results']['items']\n",
    "    df = pd.json_normalize(data, record_path =['alternatives'], meta=['start_time', 'end_time', 'type'], errors='ignore')            \n",
    "\n",
    "    # calculate the speaker embedding\n",
    "    segment_id = 0\n",
    "    segment_id_list = []\n",
    "    # id_embedding = dict()\n",
    "    id_embedding = []\n",
    "    id_sentence = []\n",
    "    start_time = -1.0\n",
    "    end_time = -1.0\n",
    "    punt_count = 0\n",
    "    # for i, row in df.iterrows():\n",
    "    for i, row in tqdm(df.iterrows(), total=df.shape[0]):\n",
    "        # print(row)\n",
    "        if (row['content'] == '.') | ((row['content'] == '?'))| ((row['content'] == '?')):\n",
    "            punt_count += 1\n",
    "            # print(f'Segment {segment_id}')\n",
    "\n",
    "            # samples_np = samples.numpy().reshape((-1))\n",
    "            # samples_curr = samples_np[int(floor(start_time*fs)): int(floor(end_time*fs))]\n",
    "            samples_curr = samples[0, int(floor(start_time*fs)): int(floor(end_time*fs))]\n",
    "            embeddings = classifier.encode_batch(samples_curr)\n",
    "            embeddings_np = embeddings.numpy().reshape((-1))\n",
    "            # id_embedding.update({segment_id: embeddings_np})\n",
    "            id_embedding.append(embeddings_np)\n",
    "            segment_id_list.append(segment_id)\n",
    "            start_time = -1.0            \n",
    "            segment_id += 1\n",
    "        elif row['type'] != 'punctuation':\n",
    "            if start_time == -1.0:\n",
    "                start_time = floor(row['start_time'])\n",
    "            start_time = min(start_time, row['start_time'])\n",
    "            end_time = max(end_time, row['end_time'])\n",
    "            segment_id_list.append(segment_id)\n",
    "        else: # other punctuation\n",
    "            segment_id_list.append(segment_id)\n",
    "            \n",
    "    # Add segment id / sentence id\n",
    "    df['segment_id'] = segment_id_list\n",
    "    \n",
    "    # Calcuate the embedding similarity between two adjacent segments\n",
    "    speaker_list = []\n",
    "    for i in range(len(id_embedding)-1):\n",
    "        speaker_list.append(cos_sim(id_embedding[i], id_embedding[i+1]))\n",
    "    speaker_score = np.array(speaker_list)\n",
    "    \n",
    "    # segment mapping from sentences to speakers\n",
    "    num_sentence_changes = speaker_score.shape[0]\n",
    "    speaker_id = np.zeros((num_sentence_changes+1)).astype(int)\n",
    "    speaker_segment = 0\n",
    "    speaker_id[0] = speaker_segment\n",
    "    for i in range(num_sentence_changes):\n",
    "        if speaker_score[i] < speaker_simi_thre:\n",
    "            speaker_segment += 1\n",
    "        speaker_id[i+1] = speaker_segment\n",
    "\n",
    "    # write speaker id\n",
    "    human_segment_id = []\n",
    "    for i, row in df.iterrows():\n",
    "        if row['segment_id'] >= speaker_id.shape[0]:\n",
    "            human_segment_id.append(speaker_segment)\n",
    "        else:\n",
    "            human_segment_id.append(speaker_id[row['segment_id']])\n",
    "    df['human_segment_id'] = human_segment_id\n",
    "    \n",
    "    df.to_csv(os.path.join('./sound', j_curr[:-4]+'csv'))"
   ]
  },
  {
   "cell_type": "code",
   "execution_count": 22,
   "id": "1bb25831-85a4-4e2a-8273-421b2fc97c68",
   "metadata": {},
   "outputs": [
    {
     "data": {
      "text/plain": [
       "41"
      ]
     },
     "execution_count": 22,
     "metadata": {},
     "output_type": "execute_result"
    }
   ],
   "source": [
    "speaker_segment"
   ]
  },
  {
   "cell_type": "code",
   "execution_count": 13,
   "id": "f036094d-b677-4a10-a2cf-f8996cc5d89b",
   "metadata": {},
   "outputs": [
    {
     "data": {
      "text/plain": [
       "'a16z_crypto.csv'"
      ]
     },
     "execution_count": 13,
     "metadata": {},
     "output_type": "execute_result"
    }
   ],
   "source": [
    "j_curr[:-4]+'csv'"
   ]
  },
  {
   "cell_type": "code",
   "execution_count": 20,
   "id": "a9a0551a-f5ef-4467-9e58-d7f148b11792",
   "metadata": {},
   "outputs": [],
   "source": [
    "# Add segment id / sentence id\n",
    "df['segment_id'] = segment_id_list\n",
    "\n",
    "# Calcuate the embedding similarity between two adjacent segments\n",
    "speaker_list = []\n",
    "for i in range(len(id_embedding)-1):\n",
    "    speaker_list.append(cos_sim(id_embedding[i], id_embedding[i+1]))\n",
    "speaker_score = np.array(speaker_list)\n",
    "\n",
    "# segment mapping from sentences to speakers\n",
    "num_sentence_changes = speaker_score.shape[0]\n",
    "speaker_id = np.zeros((num_sentence_changes+1)).astype(int)\n",
    "speaker_segment = 0\n",
    "speaker_id[0] = speaker_segment\n",
    "for i in range(num_sentence_changes):\n",
    "    if speaker_score[i] < speaker_simi_thre:\n",
    "        speaker_segment += 1\n",
    "    speaker_id[i+1] = speaker_segment\n",
    "\n",
    "# write speaker id\n",
    "human_segment_id = []\n",
    "for i, row in df.iterrows():\n",
    "    if row['segment_id'] >= speaker_id.shape[0]:\n",
    "        human_segment_id.append(num_sentence_changes)\n",
    "    else:\n",
    "        human_segment_id.append(speaker_id[row['segment_id']])\n",
    "df['human_segment_id'] = human_segment_id\n",
    "\n",
    "df.to_csv(os.path.join('./sound', j_curr[:-4]+'csv'))\n"
   ]
  },
  {
   "cell_type": "code",
   "execution_count": null,
   "id": "8cd6ab5a-df7a-4253-a24f-1a762033e7b8",
   "metadata": {},
   "outputs": [],
   "source": []
  }
 ],
 "metadata": {
  "kernelspec": {
   "display_name": "Python 3 (ipykernel)",
   "language": "python",
   "name": "python3"
  },
  "language_info": {
   "codemirror_mode": {
    "name": "ipython",
    "version": 3
   },
   "file_extension": ".py",
   "mimetype": "text/x-python",
   "name": "python",
   "nbconvert_exporter": "python",
   "pygments_lexer": "ipython3",
   "version": "3.8.12"
  }
 },
 "nbformat": 4,
 "nbformat_minor": 5
}
